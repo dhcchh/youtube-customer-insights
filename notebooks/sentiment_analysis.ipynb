{
 "cells": [
  {
   "cell_type": "code",
   "execution_count": 1,
   "id": "05cb152b",
   "metadata": {},
   "outputs": [],
   "source": [
    "import sys\n",
    "sys.path.append('..')"
   ]
  },
  {
   "cell_type": "code",
   "execution_count": 2,
   "id": "f814509d",
   "metadata": {},
   "outputs": [
    {
     "name": "stderr",
     "output_type": "stream",
     "text": [
      "c:\\Users\\Admin\\AppData\\Local\\Programs\\Python\\Python313\\Lib\\site-packages\\tqdm\\auto.py:21: TqdmWarning: IProgress not found. Please update jupyter and ipywidgets. See https://ipywidgets.readthedocs.io/en/stable/user_install.html\n",
      "  from .autonotebook import tqdm as notebook_tqdm\n"
     ]
    }
   ],
   "source": [
    "import pandas as pd\n",
    "from src.sentiment_analysis_BERT import *\n",
    "\n",
    "input_df = pd.read_csv('../data/processed/cleaned_vertuo_pop_comments.csv')"
   ]
  },
  {
   "cell_type": "code",
   "execution_count": 3,
   "id": "b5270b59",
   "metadata": {},
   "outputs": [
    {
     "name": "stdout",
     "output_type": "stream",
     "text": [
      "Using device: cpu\n",
      "Loading BERT model...\n"
     ]
    },
    {
     "name": "stderr",
     "output_type": "stream",
     "text": [
      "Some weights of the model checkpoint at cardiffnlp/twitter-roberta-base-sentiment-latest were not used when initializing RobertaForSequenceClassification: ['roberta.pooler.dense.bias', 'roberta.pooler.dense.weight']\n",
      "- This IS expected if you are initializing RobertaForSequenceClassification from the checkpoint of a model trained on another task or with another architecture (e.g. initializing a BertForSequenceClassification model from a BertForPreTraining model).\n",
      "- This IS NOT expected if you are initializing RobertaForSequenceClassification from the checkpoint of a model that you expect to be exactly identical (initializing a BertForSequenceClassification model from a BertForSequenceClassification model).\n"
     ]
    },
    {
     "name": "stdout",
     "output_type": "stream",
     "text": [
      "Model loaded successfully\n",
      "Analyzing 245 comments...\n"
     ]
    },
    {
     "name": "stderr",
     "output_type": "stream",
     "text": [
      "Analyzing sentiment: 100%|██████████| 16/16 [00:08<00:00,  1.84it/s]\n"
     ]
    }
   ],
   "source": [
    "analyzer = BERTSentimentAnalyzer()\n",
    "results_df = analyzer.analyze_dataframe(input_df)"
   ]
  },
  {
   "cell_type": "code",
   "execution_count": 4,
   "id": "f3135d9b",
   "metadata": {},
   "outputs": [
    {
     "name": "stdout",
     "output_type": "stream",
     "text": [
      "\n",
      "Video Statistics Summary:\n",
      "--------------------------------------------------\n",
      "Total Views: 1,149,975\n",
      "Total Likes: 3,653\n",
      "Total Dislikes: 278（7%）\n",
      "Total Comments: 446 (including replies)\n",
      "--------------------------------------------------\n",
      "\n"
     ]
    }
   ],
   "source": [
    "print(\n",
    "\"\"\"\n",
    "Video Statistics Summary:\n",
    "--------------------------------------------------\n",
    "Total Views: 1,149,975\n",
    "Total Likes: 3,653\n",
    "Total Dislikes: 278（7%）\n",
    "Total Comments: 446 (including replies)\n",
    "--------------------------------------------------\n",
    "\"\"\")"
   ]
  },
  {
   "cell_type": "code",
   "execution_count": 5,
   "id": "e752ebb4",
   "metadata": {},
   "outputs": [
    {
     "name": "stdout",
     "output_type": "stream",
     "text": [
      "\n",
      "Sentiment Summary:\n",
      "--------------------------------------------------\n",
      "Sentiment       Count  %      Total Likes \n",
      "--------------------------------------------------\n",
      "Negative       :  135 ( 55.1%)       1442 likes\n",
      "Neutral        :   81 ( 33.1%)        561 likes\n",
      "Positive       :   29 ( 11.8%)        173 likes\n",
      "--------------------------------------------------\n",
      "\n",
      "Overall Summary:\n",
      "------------------------------\n",
      "Negative:  55.1% ( 135 comments,   1442 likes)\n",
      "Neutral:   33.1% (  81 comments,    561 likes)\n",
      "Positive:  11.8% (  29 comments,    173 likes)\n",
      "Total:    100.0% ( 245 comments,   2176 likes)\n",
      "\n",
      "Engagement Insights:\n",
      "Negative comments received 66.3% of total likes\n",
      "Positive comments received 8.0% of total likes\n",
      "\n",
      "Average likes per comment:\n",
      "Negative: 10.7 likes/comment\n",
      "Neutral:  6.9 likes/comment\n",
      "Positive: 6.0 likes/comment\n",
      "\n",
      "Risk Assessment:\n",
      "⚠️  HIGH NEGATIVE SENTIMENT - Requires immediate attention\n"
     ]
    }
   ],
   "source": [
    "quick_sentiment_summary(results_df)"
   ]
  },
  {
   "cell_type": "code",
   "execution_count": 6,
   "id": "ddb02e06",
   "metadata": {},
   "outputs": [],
   "source": [
    "validator = SentimentValidator(results_df)"
   ]
  },
  {
   "cell_type": "code",
   "execution_count": 7,
   "id": "8e1884ed",
   "metadata": {},
   "outputs": [
    {
     "name": "stdout",
     "output_type": "stream",
     "text": [
      "============================================================\n",
      "SENTIMENT ANALYSIS VALIDATION REPORT\n",
      "============================================================\n",
      "\n",
      "Statistical Validation:\n",
      "------------------------------\n",
      "Sentiment Distribution:\n",
      "Negative       :  55.1%\n",
      "Neutral        :  33.1%\n",
      "Positive       :  11.8%\n",
      "\n",
      "Likes by Sentiment:\n",
      "                 count   sum   mean\n",
      "sentiment_label                    \n",
      "Negative           135  1442  10.68\n",
      "Neutral             81   561   6.93\n",
      "Positive            29   173   5.97\n",
      "\n",
      "Statistical Warnings:\n",
      "⚠️  Negative comments receiving high engagement - major issue\n",
      "\n",
      "Confidence Distribution Analysis:\n",
      "----------------------------------------\n",
      "Very Low (<0.5):   10 (  4.1%)\n",
      "Low (0.5-0.7):    56 ( 22.9%)\n",
      "Medium (0.7-0.9): 101 ( 41.2%)\n",
      "High (>0.9):       78 ( 31.8%)\n",
      "\n",
      "Confidence Statistics:\n",
      "Mean: 0.790\n",
      "Std:  0.150\n",
      "Min:  0.409\n",
      "Max:  0.986\n",
      "\n",
      "========================================\n",
      "MANUAL VALIDATION SAMPLE\n",
      "========================================\n",
      "Manual validation sample saved to manual_validation_sample.csv\n",
      "Instructions: Fill 'manual_label' column with your assessment\n",
      "Mark 'correct' as True/False, add 'notes' if needed\n"
     ]
    }
   ],
   "source": [
    "validation_report = validator.full_validation_report()"
   ]
  },
  {
   "cell_type": "code",
   "execution_count": 8,
   "id": "79dc5fac",
   "metadata": {},
   "outputs": [
    {
     "name": "stdout",
     "output_type": "stream",
     "text": [
      "\n",
      "Confidence Distribution Analysis:\n",
      "----------------------------------------\n",
      "Very Low (<0.5):   10 (  4.1%)\n",
      "Low (0.5-0.7):    56 ( 22.9%)\n",
      "Medium (0.7-0.9): 101 ( 41.2%)\n",
      "High (>0.9):       78 ( 31.8%)\n",
      "\n",
      "Confidence Statistics:\n",
      "Mean: 0.790\n",
      "Std:  0.150\n",
      "Min:  0.409\n",
      "Max:  0.986\n"
     ]
    },
    {
     "data": {
      "text/plain": [
       "{'statistics': count    245.000000\n",
       " mean       0.790453\n",
       " std        0.149825\n",
       " min        0.409208\n",
       " 25%        0.668012\n",
       " 50%        0.829471\n",
       " 75%        0.916433\n",
       " max        0.985745\n",
       " Name: sentiment_confidence, dtype: float64,\n",
       " 'distribution': {'very_low': 10, 'low': 56, 'medium': 101, 'high': 78},\n",
       " 'warnings': [],\n",
       " 'low_confidence_samples':                                                   text sentiment_label  \\\n",
       " 87   What's the problem with having more buttons???...         Neutral   \n",
       " 88   Just got mine out of the box and prepared a co...         Neutral   \n",
       " 210  Just got mine out of the box but I'm thinking ...        Positive   \n",
       " 215                               This is so complex !         Neutral   \n",
       " 167  Thanks to tik tok i got it ! This video is so ...        Negative   \n",
       " 1    Instructions from me to Nespresso, add a freak...         Neutral   \n",
       " 56   The puzzles on Hogwarts Legacy were easier to ...         Neutral   \n",
       " 38   Hmmm followed the descaling instructions to th...         Neutral   \n",
       " 95   The cleaning wasnt working for me (kept flashi...        Negative   \n",
       " 164  This video is confusing because they use the s...        Negative   \n",
       " \n",
       "      sentiment_confidence  \n",
       " 87               0.409208  \n",
       " 88               0.420297  \n",
       " 210              0.432477  \n",
       " 215              0.442402  \n",
       " 167              0.453931  \n",
       " 1                0.477913  \n",
       " 56               0.486600  \n",
       " 38               0.493899  \n",
       " 95               0.494389  \n",
       " 164              0.495626  }"
      ]
     },
     "execution_count": 8,
     "metadata": {},
     "output_type": "execute_result"
    }
   ],
   "source": [
    "validator.analyze_confidence_distribution()"
   ]
  }
 ],
 "metadata": {
  "kernelspec": {
   "display_name": "Python 3",
   "language": "python",
   "name": "python3"
  },
  "language_info": {
   "codemirror_mode": {
    "name": "ipython",
    "version": 3
   },
   "file_extension": ".py",
   "mimetype": "text/x-python",
   "name": "python",
   "nbconvert_exporter": "python",
   "pygments_lexer": "ipython3",
   "version": "3.13.3"
  }
 },
 "nbformat": 4,
 "nbformat_minor": 5
}
