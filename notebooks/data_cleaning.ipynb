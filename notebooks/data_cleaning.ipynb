{
 "cells": [
  {
   "cell_type": "code",
   "execution_count": 16,
   "id": "30927eaa",
   "metadata": {},
   "outputs": [],
   "source": [
    "from src.clean_comments import YouTubeCommentCleaner\n",
    "import pandas as pd "
   ]
  },
  {
   "cell_type": "code",
   "execution_count": 17,
   "id": "6bf976d5",
   "metadata": {},
   "outputs": [],
   "source": [
    "all_comments_df = pd.read_csv(r'..\\data\\raw\\raw_vertuo_pop.csv')"
   ]
  },
  {
   "cell_type": "code",
   "execution_count": null,
   "id": "58ac2441",
   "metadata": {},
   "outputs": [
    {
     "name": "stdout",
     "output_type": "stream",
     "text": [
      "Original data shape: (246, 7)\n",
      "\n",
      "Sample of original comments:\n",
      "\n",
      "============================================================\n",
      "CLEANING PREVIEW\n",
      "============================================================\n",
      "\n",
      "Comment 1:\n",
      "Original: Nice to see Kurzgesagt getting into the coffee game 🐦‍\n",
      "Cleaned:  Nice to see Kurzgesagt getting into the coffee game ‍\n",
      "\n",
      "Comment 2:\n",
      "Original: Instructions from me to Nespresso, add a freaking descaling button. Press once. Issue solved.\n",
      "Cleaned:  Instructions from me to Nespresso, add a freaking descaling button. Press once. Issue solved.\n",
      "\n",
      "Comment 3:\n",
      "Original: Hey Nespresso. Great product. Got this recently as a b'day present. Quick question pls, how often am I supposed to clean / descale? Everyday after i finish using it or once a week or other 😅\n",
      "Cleaned:  Hey Nespresso. Great product. Got this recently as a b'day present. Quick question pls, how often am I supposed to clean / descale? Everyday after i finish using it or once a week or other\n",
      "\n",
      "Comment 4:\n",
      "Original: wow only 432 steps?!  so simple\n",
      "Cleaned:  wow only 432 steps?! so simple\n",
      "\n",
      "Comment 5:\n",
      "Original: This is insanley complex and hasnt worked for me at all\n",
      "Cleaned:  This is insanley complex and hasnt worked for me at all\n"
     ]
    }
   ],
   "source": [
    "cleaner = YouTubeCommentCleaner(\n",
    "    remove_urls=True,\n",
    "    remove_mentions=True, \n",
    "    lowercase=False  \n",
    ")\n",
    "\n",
    "print(\"Original data shape:\", all_comments_df.shape)\n",
    "print(\"\\nSample of original comments:\")\n",
    "\n",
    "print(\"\\n\" + \"=\"*60)\n",
    "print(\"CLEANING PREVIEW\")\n",
    "print(\"=\"*60)\n",
    "preview = cleaner.preview_cleaning(all_comments_df, text_column='text', n_samples=5)\n",
    "for i, row in preview.iterrows():\n",
    "    print(f\"\\nComment {i+1}:\")\n",
    "    print(f\"Original: {row['original']}\")\n",
    "    print(f\"Cleaned:  {row['cleaned']}\")"
   ]
  },
  {
   "cell_type": "code",
   "execution_count": null,
   "id": "d5d6b036",
   "metadata": {},
   "outputs": [
    {
     "name": "stdout",
     "output_type": "stream",
     "text": [
      "\n",
      "============================================================\n",
      "CLEANING RESULTS\n",
      "============================================================\n",
      "Original comments: 245\n",
      "After cleaning: 245\n",
      "Removed empty: 0\n"
     ]
    }
   ],
   "source": [
    "cleaned_df = cleaner.clean_dataframe(all_comments_df, text_column='text')\n",
    "print(\"\\n\" + \"=\"*60)\n",
    "print(\"CLEANING RESULTS\")\n",
    "print(\"=\" * 60)\n",
    "print(f\"Original comments: {len(cleaned_df)}\")\n",
    "print(f\"After cleaning: {len(cleaned_df)}\")\n",
    "print(f\"Removed empty: {len(cleaned_df) - len(cleaned_df)}\")"
   ]
  },
  {
   "cell_type": "code",
   "execution_count": null,
   "id": "d3d90e53",
   "metadata": {},
   "outputs": [
    {
     "name": "stdout",
     "output_type": "stream",
     "text": [
      "Columns in cleaned dataset:\n",
      "['comment_id', 'author', 'author_channel_id', 'text', 'like_count', 'published_at', 'updated_at', 'cleaned_text']\n",
      "\n",
      "First few cleaned comments:\n",
      "1. Nice to see Kurzgesagt getting into the coffee game ‍\n",
      "2. Instructions from me to Nespresso, add a freaking descaling button. Press once. Issue solved.\n",
      "3. Hey Nespresso. Great product. Got this recently as a b'day present. Quick question pls, how often am I supposed to clean / descale? Everyday after i finish using it or once a week or other\n"
     ]
    }
   ],
   "source": [
    "print(\"Columns in cleaned dataset:\")\n",
    "print(cleaned_df.columns.tolist())\n",
    "\n",
    "print(\"\\nFirst few cleaned comments:\")\n",
    "for i, comment in enumerate(cleaned_df['cleaned_text'].head(3)):\n",
    "    print(f\"{i+1}. {comment}\")"
   ]
  },
  {
   "cell_type": "code",
   "execution_count": null,
   "id": "2498743c",
   "metadata": {},
   "outputs": [],
   "source": [
    "cleaned_df.to_csv('../data/processed/cleaned_vertuo_pop_comments.csv', index=False)"
   ]
  }
 ],
 "metadata": {
  "kernelspec": {
   "display_name": "Python 3",
   "language": "python",
   "name": "python3"
  },
  "language_info": {
   "codemirror_mode": {
    "name": "ipython",
    "version": 3
   },
   "file_extension": ".py",
   "mimetype": "text/x-python",
   "name": "python",
   "nbconvert_exporter": "python",
   "pygments_lexer": "ipython3",
   "version": "3.13.3"
  }
 },
 "nbformat": 4,
 "nbformat_minor": 5
}
