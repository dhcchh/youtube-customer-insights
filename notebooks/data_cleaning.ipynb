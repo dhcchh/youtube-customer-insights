{
 "cells": [
  {
   "cell_type": "code",
   "execution_count": 7,
   "id": "fed0c81f",
   "metadata": {},
   "outputs": [],
   "source": [
    "import sys\n",
    "sys.path.append('..')"
   ]
  },
  {
   "cell_type": "code",
   "execution_count": null,
   "id": "30927eaa",
   "metadata": {},
   "outputs": [],
   "source": [
    "from src.clean_comments import BERTYouTubeCommentCleaner\n",
    "import pandas as pd "
   ]
  },
  {
   "cell_type": "code",
   "execution_count": 10,
   "id": "6bf976d5",
   "metadata": {},
   "outputs": [],
   "source": [
    "all_comments_df = pd.read_csv(r'..\\data\\raw\\raw_vertuo_pop.csv')"
   ]
  },
  {
   "cell_type": "code",
   "execution_count": null,
   "id": "58ac2441",
   "metadata": {},
   "outputs": [
    {
     "name": "stdout",
     "output_type": "stream",
     "text": [
      "Removed 1 comments that were too short after cleaning\n",
      "\n",
      "============================================================\n",
      "CLEANING RESULTS\n",
      "============================================================\n",
      "Original comments: 245\n",
      "After cleaning: 245\n",
      "Removed empty: 0\n"
     ]
    }
   ],
   "source": [
    "cleaner = BERTYouTubeCommentCleaner()\n",
    "\n",
    "cleaned_df = cleaner.clean_dataframe(all_comments_df, text_column='text')\n",
    "\n",
    "print(\"\\n\" + \"=\"*60)\n",
    "print(\"CLEANING RESULTS\")\n",
    "print(\"=\" * 60)\n",
    "print(f\"Original comments: {len(cleaned_df)}\")\n",
    "print(f\"After cleaning: {len(cleaned_df)}\")\n",
    "print(f\"Removed empty: {len(cleaned_df) - len(cleaned_df)}\")\n"
   ]
  },
  {
   "cell_type": "code",
   "execution_count": 12,
   "id": "d3d90e53",
   "metadata": {},
   "outputs": [
    {
     "name": "stdout",
     "output_type": "stream",
     "text": [
      "Columns in cleaned dataset:\n",
      "['comment_id', 'author', 'author_channel_id', 'text', 'like_count', 'published_at', 'updated_at', 'cleaned_text', 'original_length', 'cleaned_length']\n",
      "\n",
      "First few cleaned comments:\n",
      "1. Nice to see Kurzgesagt getting into the coffee game ‍\n",
      "2. Instructions from me to Nespresso, add a freaking descaling button. Press once. Issue solved.\n",
      "3. Hey Nespresso. Great product. Got this recently as a b'day present. Quick question pls, how often am I supposed to clean / descale? Everyday after i finish using it or once a week or other\n"
     ]
    }
   ],
   "source": [
    "print(\"Columns in cleaned dataset:\")\n",
    "print(cleaned_df.columns.tolist())\n",
    "\n",
    "print(\"\\nFirst few cleaned comments:\")\n",
    "for i, comment in enumerate(cleaned_df['cleaned_text'].head(3)):\n",
    "    print(f\"{i+1}. {comment}\")"
   ]
  },
  {
   "cell_type": "code",
   "execution_count": 13,
   "id": "2498743c",
   "metadata": {},
   "outputs": [],
   "source": [
    "cleaned_df.to_csv('../data/processed/cleaned_vertuo_pop_comments.csv', index=False)"
   ]
  }
 ],
 "metadata": {
  "kernelspec": {
   "display_name": "Python 3",
   "language": "python",
   "name": "python3"
  },
  "language_info": {
   "codemirror_mode": {
    "name": "ipython",
    "version": 3
   },
   "file_extension": ".py",
   "mimetype": "text/x-python",
   "name": "python",
   "nbconvert_exporter": "python",
   "pygments_lexer": "ipython3",
   "version": "3.13.3"
  }
 },
 "nbformat": 4,
 "nbformat_minor": 5
}
