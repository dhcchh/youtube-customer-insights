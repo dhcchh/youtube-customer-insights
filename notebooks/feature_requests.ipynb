{
 "cells": [
  {
   "cell_type": "code",
   "execution_count": 1,
   "id": "73b07068",
   "metadata": {},
   "outputs": [],
   "source": [
    "import sys\n",
    "sys.path.append('..')"
   ]
  },
  {
   "cell_type": "code",
   "execution_count": 2,
   "id": "99f11b88",
   "metadata": {},
   "outputs": [],
   "source": [
    "from src.feature_extractor import FeatureExtractor\n",
    "import pandas as pd "
   ]
  },
  {
   "cell_type": "code",
   "execution_count": 3,
   "id": "f75b508e",
   "metadata": {},
   "outputs": [],
   "source": [
    "df = pd.read_csv('../data/exports/final_sentiment_analysis_results.csv')"
   ]
  },
  {
   "cell_type": "code",
   "execution_count": 4,
   "id": "6de7b57e",
   "metadata": {},
   "outputs": [
    {
     "name": "stdout",
     "output_type": "stream",
     "text": [
      "Column: comment_id\n",
      "Column: author\n",
      "Column: author_channel_id\n",
      "Column: text\n",
      "Column: like_count\n",
      "Column: published_at\n",
      "Column: updated_at\n",
      "Column: cleaned_text\n",
      "Column: original_length\n",
      "Column: cleaned_length\n",
      "Column: sentiment_label\n",
      "Column: sentiment_confidence\n",
      "Column: sentiment_prediction\n",
      "Column: prob_negative\n",
      "Column: prob_neutral\n",
      "Column: prob_positive\n",
      "Column: manual_correction\n"
     ]
    }
   ],
   "source": [
    "for col in df.columns:\n",
    "    print(f'Column: {col}')"
   ]
  },
  {
   "cell_type": "code",
   "execution_count": 5,
   "id": "380e13e0",
   "metadata": {},
   "outputs": [],
   "source": [
    "extractor = FeatureExtractor()\n",
    "results = extractor.extract_insights(df, text_column='cleaned_text')\n",
    "\n",
    "chart_df = extractor.get_chart_data(results)"
   ]
  },
  {
   "cell_type": "code",
   "execution_count": 6,
   "id": "10aa1b90",
   "metadata": {},
   "outputs": [
    {
     "data": {
      "text/html": [
       "<div>\n",
       "<style scoped>\n",
       "    .dataframe tbody tr th:only-of-type {\n",
       "        vertical-align: middle;\n",
       "    }\n",
       "\n",
       "    .dataframe tbody tr th {\n",
       "        vertical-align: top;\n",
       "    }\n",
       "\n",
       "    .dataframe thead th {\n",
       "        text-align: right;\n",
       "    }\n",
       "</style>\n",
       "<table border=\"1\" class=\"dataframe\">\n",
       "  <thead>\n",
       "    <tr style=\"text-align: right;\">\n",
       "      <th></th>\n",
       "      <th>issue</th>\n",
       "      <th>count</th>\n",
       "      <th>total_likes</th>\n",
       "      <th>weighted_score</th>\n",
       "    </tr>\n",
       "  </thead>\n",
       "  <tbody>\n",
       "    <tr>\n",
       "      <th>0</th>\n",
       "      <td>Descaling Button Request</td>\n",
       "      <td>19</td>\n",
       "      <td>720</td>\n",
       "      <td>13680</td>\n",
       "    </tr>\n",
       "    <tr>\n",
       "      <th>3</th>\n",
       "      <td>Complexity Complaints</td>\n",
       "      <td>15</td>\n",
       "      <td>678</td>\n",
       "      <td>10170</td>\n",
       "    </tr>\n",
       "    <tr>\n",
       "      <th>2</th>\n",
       "      <td>Simplification Requests</td>\n",
       "      <td>3</td>\n",
       "      <td>143</td>\n",
       "      <td>429</td>\n",
       "    </tr>\n",
       "    <tr>\n",
       "      <th>4</th>\n",
       "      <td>Instruction Problems</td>\n",
       "      <td>6</td>\n",
       "      <td>34</td>\n",
       "      <td>204</td>\n",
       "    </tr>\n",
       "    <tr>\n",
       "      <th>1</th>\n",
       "      <td>App Improvements</td>\n",
       "      <td>3</td>\n",
       "      <td>8</td>\n",
       "      <td>24</td>\n",
       "    </tr>\n",
       "    <tr>\n",
       "      <th>5</th>\n",
       "      <td>Technical Issues</td>\n",
       "      <td>2</td>\n",
       "      <td>0</td>\n",
       "      <td>2</td>\n",
       "    </tr>\n",
       "  </tbody>\n",
       "</table>\n",
       "</div>"
      ],
      "text/plain": [
       "                      issue  count  total_likes  weighted_score\n",
       "0  Descaling Button Request     19          720           13680\n",
       "3     Complexity Complaints     15          678           10170\n",
       "2   Simplification Requests      3          143             429\n",
       "4      Instruction Problems      6           34             204\n",
       "1          App Improvements      3            8              24\n",
       "5          Technical Issues      2            0               2"
      ]
     },
     "execution_count": 6,
     "metadata": {},
     "output_type": "execute_result"
    }
   ],
   "source": [
    "chart_df"
   ]
  },
  {
   "cell_type": "code",
   "execution_count": 7,
   "id": "8f504223",
   "metadata": {},
   "outputs": [],
   "source": [
    "chart_df.to_csv('../data/exports/feature_results.csv', index=False)"
   ]
  }
 ],
 "metadata": {
  "kernelspec": {
   "display_name": "Python 3",
   "language": "python",
   "name": "python3"
  },
  "language_info": {
   "codemirror_mode": {
    "name": "ipython",
    "version": 3
   },
   "file_extension": ".py",
   "mimetype": "text/x-python",
   "name": "python",
   "nbconvert_exporter": "python",
   "pygments_lexer": "ipython3",
   "version": "3.13.3"
  }
 },
 "nbformat": 4,
 "nbformat_minor": 5
}
