{
 "cells": [
  {
   "cell_type": "code",
   "execution_count": 1,
   "id": "12b8dc51",
   "metadata": {},
   "outputs": [
    {
     "name": "stdout",
     "output_type": "stream",
     "text": [
      "                 metric                     value\n",
      "0        Total Comments                       245\n",
      "1  Negative Sentiment %                     65.71\n",
      "2             Top Issue  Descaling Button Request\n",
      "3    High Impact Issues                         2\n",
      "metric    object\n",
      "value     object\n",
      "dtype: object\n"
     ]
    }
   ],
   "source": [
    "import pandas as pd\n",
    "df = pd.read_csv('../data/superset_ready/summary_for_superset.csv')\n",
    "print(df)\n",
    "print(df.dtypes)"
   ]
  }
 ],
 "metadata": {
  "kernelspec": {
   "display_name": "Python 3",
   "language": "python",
   "name": "python3"
  },
  "language_info": {
   "codemirror_mode": {
    "name": "ipython",
    "version": 3
   },
   "file_extension": ".py",
   "mimetype": "text/x-python",
   "name": "python",
   "nbconvert_exporter": "python",
   "pygments_lexer": "ipython3",
   "version": "3.13.3"
  }
 },
 "nbformat": 4,
 "nbformat_minor": 5
}
